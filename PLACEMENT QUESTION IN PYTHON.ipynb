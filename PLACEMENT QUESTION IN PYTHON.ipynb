{
 "cells": [
  {
   "cell_type": "code",
   "execution_count": 6,
   "id": "8fe7e0bf",
   "metadata": {},
   "outputs": [
    {
     "name": "stdout",
     "output_type": "stream",
     "text": [
      "enter the number9\n",
      "9 number is odd number\n"
     ]
    }
   ],
   "source": [
    "#ODD AND EVEN CODE\n",
    "n=int(input(\"enter the number\"))\n",
    "if(n%2!=0):\n",
    "    print(n,\"number is odd number\")\n",
    "else:\n",
    "    print(n,\"number is even number\")"
   ]
  },
  {
   "cell_type": "code",
   "execution_count": 9,
   "id": "f7ca5076",
   "metadata": {},
   "outputs": [
    {
     "name": "stdout",
     "output_type": "stream",
     "text": [
      "enter the nuber:-1\n",
      "negative number\n"
     ]
    }
   ],
   "source": [
    "#check positive and negative number\n",
    "n=int(input(\"enter the nuber:\"))\n",
    "if n>0:\n",
    "    print(\"this is positive number\")\n",
    "elif n==0:\n",
    "    print(\"equal to zero\")\n",
    "else:\n",
    "    print(\"negative number\")"
   ]
  },
  {
   "cell_type": "code",
   "execution_count": 10,
   "id": "2f46e432",
   "metadata": {},
   "outputs": [
    {
     "name": "stdout",
     "output_type": "stream",
     "text": [
      "enter the first number:4\n",
      "enter the second number5\n",
      "sum of number is: 9\n"
     ]
    }
   ],
   "source": [
    "#sum of two number\n",
    "n1=int(input(\"enter the first number:\"))\n",
    "n2=int(input(\"enter the second number\"))\n",
    "print(\"sum of number is:\",n1+n2)"
   ]
  },
  {
   "cell_type": "code",
   "execution_count": 11,
   "id": "9f7b63cd",
   "metadata": {},
   "outputs": [
    {
     "name": "stdout",
     "output_type": "stream",
     "text": [
      "enter the number:6\n",
      "6 is not prime number\n"
     ]
    }
   ],
   "source": [
    "#check prime number\n",
    "n=int(input(\"enter the number:\"))\n",
    "flag=False\n",
    "if(n>1):\n",
    "    for i in range(2,n):\n",
    "        if(n%i)==0:\n",
    "            flag=True\n",
    "            break\n",
    "if flag:\n",
    "    print(n,\"is not prime number\")\n",
    "else:\n",
    "    print(n,\"is prime number\")"
   ]
  },
  {
   "cell_type": "code",
   "execution_count": 18,
   "id": "be2f67c9",
   "metadata": {},
   "outputs": [
    {
     "name": "stdout",
     "output_type": "stream",
     "text": [
      "enter the number:1234321\n",
      "palintrom number\n"
     ]
    }
   ],
   "source": [
    "#check palindrom number\n",
    "n=int(input(\"enter the number:\"))\n",
    "temp=n\n",
    "reverse=0\n",
    "while temp>0:\n",
    "    remainder=temp%10\n",
    "    reverse = (reverse * 10) + remainder\n",
    "    temp = temp // 10\n",
    "if n == reverse:\n",
    "    print(\"palintrom number\")\n",
    "else:\n",
    "    print(\"not palindrom number\")"
   ]
  },
  {
   "cell_type": "code",
   "execution_count": 21,
   "id": "cdb2a69c",
   "metadata": {},
   "outputs": [
    {
     "name": "stdout",
     "output_type": "stream",
     "text": [
      "enter the number:407\n",
      "407 is a armstrong number\n"
     ]
    }
   ],
   "source": [
    "#check armstrong number\n",
    "n=int(input(\"enter the number:\"))\n",
    "temp=n\n",
    "sum=0\n",
    "while temp>0:\n",
    "    digit=temp%10\n",
    "    sum+=digit**3\n",
    "    temp//=10\n",
    "if n==sum:\n",
    "    print(n,\"is a armstrong number\")\n",
    "else:\n",
    "    print(n,\"is not a armstrong number\")"
   ]
  },
  {
   "cell_type": "code",
   "execution_count": 30,
   "id": "b4936bee",
   "metadata": {},
   "outputs": [
    {
     "name": "stdout",
     "output_type": "stream",
     "text": [
      "enter the first number:earth\n",
      "enter the second numberheart\n",
      "this string is anagron number\n"
     ]
    }
   ],
   "source": [
    "#check anagram number\n",
    "def check(s1,s2):\n",
    "    if sorted(s1)==sorted(s2):\n",
    "        print(\"this string is anagron number\")\n",
    "    else:\n",
    "        print(\"this string is not anagron numer\")\n",
    "s1=input(\"enter the first number:\")\n",
    "s2=input(\"enter the second number\")\n",
    "check(s1,s2)"
   ]
  },
  {
   "cell_type": "code",
   "execution_count": 35,
   "id": "e16ff8bd",
   "metadata": {},
   "outputs": [
    {
     "name": "stdout",
     "output_type": "stream",
     "text": [
      "enter the first number:7\n",
      "enter the second number:6\n",
      "7 is a maximum number\n"
     ]
    }
   ],
   "source": [
    "#find the maximum of two number\n",
    "def maximum(a,b):\n",
    "    if a>=b:\n",
    "       return a\n",
    "    else:\n",
    "       return b\n",
    "a=int(input(\"enter the first number:\"))\n",
    "b=int(input(\"enter the second number:\"))\n",
    "print(maximum(a,b),\"is a maximum number\")"
   ]
  },
  {
   "cell_type": "code",
   "execution_count": 37,
   "id": "0a27f6b3",
   "metadata": {},
   "outputs": [
    {
     "name": "stdout",
     "output_type": "stream",
     "text": [
      "enter the first number:7\n",
      "enter the second number6\n",
      "6 is a minimum number\n"
     ]
    }
   ],
   "source": [
    "#find the minmum of two number\n",
    "def minimum(a,b):\n",
    "    if a>=b:\n",
    "        return b\n",
    "    else:\n",
    "        return a\n",
    "a=int(input(\"enter the first number:\"))\n",
    "b=int(input(\"enter the second number\"))\n",
    "print(minimum(a,b),\"is a minimum number\")"
   ]
  },
  {
   "cell_type": "code",
   "execution_count": 38,
   "id": "27f15528",
   "metadata": {},
   "outputs": [
    {
     "name": "stdout",
     "output_type": "stream",
     "text": [
      "enter the number:3\n",
      "enter the number:6\n",
      "enter the number:5\n",
      "6 is a maximum number\n"
     ]
    }
   ],
   "source": [
    "#find out the maximum of three number\n",
    "def maximum(a,b,c):\n",
    "    if a>=b and a>=c:\n",
    "        return a\n",
    "    elif b>=a and b>=c:\n",
    "        return b\n",
    "    else:\n",
    "        return c\n",
    "a=int(input(\"enter the number:\"))\n",
    "b=int(input(\"enter the number:\"))\n",
    "c=int(input(\"enter the number:\"))\n",
    "print(maximum(a,b,c),\"is a maximum number\")"
   ]
  },
  {
   "cell_type": "code",
   "execution_count": null,
   "id": "980d4ae9",
   "metadata": {},
   "outputs": [],
   "source": [
    "#FIND OUT THE MINIMUM OF THREE NUMBER\n",
    "def manimum(a,b,c):\n",
    "    if (a>c)and (a>b):\n",
    "        return a\n",
    "    elif(b>c)and (b>a):\n",
    "        return b\n",
    "    else:\n",
    "        return c\n",
    "a=int(input(\"enter the number\"))\n",
    "b=int(input(\"enter the number\"))\n",
    "c=int(input(\"enter the number\"))\n",
    "print(minimum(a,b,c),\"is the minimum number\")"
   ]
  },
  {
   "cell_type": "code",
   "execution_count": null,
   "id": "48990de1",
   "metadata": {},
   "outputs": [],
   "source": []
  }
 ],
 "metadata": {
  "kernelspec": {
   "display_name": "Python 3 (ipykernel)",
   "language": "python",
   "name": "python3"
  },
  "language_info": {
   "codemirror_mode": {
    "name": "ipython",
    "version": 3
   },
   "file_extension": ".py",
   "mimetype": "text/x-python",
   "name": "python",
   "nbconvert_exporter": "python",
   "pygments_lexer": "ipython3",
   "version": "3.10.9"
  }
 },
 "nbformat": 4,
 "nbformat_minor": 5
}
